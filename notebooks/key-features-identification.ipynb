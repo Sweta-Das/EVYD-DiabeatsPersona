{
 "cells": [
  {
   "cell_type": "code",
   "execution_count": 1,
   "metadata": {},
   "outputs": [],
   "source": [
    "import os\n",
    "import pandas as pd\n",
    "from dotenv import load_dotenv, find_dotenv"
   ]
  },
  {
   "cell_type": "code",
   "execution_count": 2,
   "metadata": {},
   "outputs": [
    {
     "data": {
      "text/html": [
       "<div>\n",
       "<style scoped>\n",
       "    .dataframe tbody tr th:only-of-type {\n",
       "        vertical-align: middle;\n",
       "    }\n",
       "\n",
       "    .dataframe tbody tr th {\n",
       "        vertical-align: top;\n",
       "    }\n",
       "\n",
       "    .dataframe thead th {\n",
       "        text-align: right;\n",
       "    }\n",
       "</style>\n",
       "<table border=\"1\" class=\"dataframe\">\n",
       "  <thead>\n",
       "    <tr style=\"text-align: right;\">\n",
       "      <th></th>\n",
       "      <th>HighBP</th>\n",
       "      <th>HighChol</th>\n",
       "      <th>CholCheck</th>\n",
       "      <th>BMI</th>\n",
       "      <th>Smoker</th>\n",
       "      <th>Stroke</th>\n",
       "      <th>HeartDiseaseorAttack</th>\n",
       "      <th>PhysActivity</th>\n",
       "      <th>Fruits</th>\n",
       "      <th>Veggies</th>\n",
       "      <th>...</th>\n",
       "      <th>NoDocbcCost</th>\n",
       "      <th>GenHlth</th>\n",
       "      <th>MentHlth</th>\n",
       "      <th>PhysHlth</th>\n",
       "      <th>DiffWalk</th>\n",
       "      <th>Sex</th>\n",
       "      <th>Age</th>\n",
       "      <th>Education</th>\n",
       "      <th>Income</th>\n",
       "      <th>Diabetes_012</th>\n",
       "    </tr>\n",
       "  </thead>\n",
       "  <tbody>\n",
       "    <tr>\n",
       "      <th>0</th>\n",
       "      <td>1.153688</td>\n",
       "      <td>1.165254</td>\n",
       "      <td>0.196922</td>\n",
       "      <td>1.757936</td>\n",
       "      <td>1.120927</td>\n",
       "      <td>-0.205637</td>\n",
       "      <td>-0.322458</td>\n",
       "      <td>-1.762814</td>\n",
       "      <td>-1.316872</td>\n",
       "      <td>0.482087</td>\n",
       "      <td>...</td>\n",
       "      <td>-0.303173</td>\n",
       "      <td>2.329121</td>\n",
       "      <td>1.998592</td>\n",
       "      <td>1.233999</td>\n",
       "      <td>2.223615</td>\n",
       "      <td>-0.887021</td>\n",
       "      <td>0.316900</td>\n",
       "      <td>-1.065595</td>\n",
       "      <td>-1.474487</td>\n",
       "      <td>0.0</td>\n",
       "    </tr>\n",
       "    <tr>\n",
       "      <th>1</th>\n",
       "      <td>-0.866785</td>\n",
       "      <td>-0.858182</td>\n",
       "      <td>-5.078164</td>\n",
       "      <td>-0.511806</td>\n",
       "      <td>1.120927</td>\n",
       "      <td>-0.205637</td>\n",
       "      <td>-0.322458</td>\n",
       "      <td>0.567275</td>\n",
       "      <td>-1.316872</td>\n",
       "      <td>-2.074316</td>\n",
       "      <td>...</td>\n",
       "      <td>3.298445</td>\n",
       "      <td>0.457294</td>\n",
       "      <td>-0.429630</td>\n",
       "      <td>-0.486592</td>\n",
       "      <td>-0.449718</td>\n",
       "      <td>-0.887021</td>\n",
       "      <td>-0.337933</td>\n",
       "      <td>0.963272</td>\n",
       "      <td>-2.440138</td>\n",
       "      <td>0.0</td>\n",
       "    </tr>\n",
       "    <tr>\n",
       "      <th>2</th>\n",
       "      <td>1.153688</td>\n",
       "      <td>1.165254</td>\n",
       "      <td>0.196922</td>\n",
       "      <td>-0.057858</td>\n",
       "      <td>-0.892119</td>\n",
       "      <td>-0.205637</td>\n",
       "      <td>-0.322458</td>\n",
       "      <td>-1.762814</td>\n",
       "      <td>0.759375</td>\n",
       "      <td>-2.074316</td>\n",
       "      <td>...</td>\n",
       "      <td>3.298445</td>\n",
       "      <td>2.329121</td>\n",
       "      <td>3.617407</td>\n",
       "      <td>2.954590</td>\n",
       "      <td>2.223615</td>\n",
       "      <td>-0.887021</td>\n",
       "      <td>0.316900</td>\n",
       "      <td>-1.065595</td>\n",
       "      <td>0.939638</td>\n",
       "      <td>0.0</td>\n",
       "    </tr>\n",
       "    <tr>\n",
       "      <th>3</th>\n",
       "      <td>1.153688</td>\n",
       "      <td>-0.858182</td>\n",
       "      <td>0.196922</td>\n",
       "      <td>-0.209174</td>\n",
       "      <td>-0.892119</td>\n",
       "      <td>-0.205637</td>\n",
       "      <td>-0.322458</td>\n",
       "      <td>0.567275</td>\n",
       "      <td>0.759375</td>\n",
       "      <td>0.482087</td>\n",
       "      <td>...</td>\n",
       "      <td>-0.303173</td>\n",
       "      <td>-0.478619</td>\n",
       "      <td>-0.429630</td>\n",
       "      <td>-0.486592</td>\n",
       "      <td>-0.449718</td>\n",
       "      <td>-0.887021</td>\n",
       "      <td>0.971733</td>\n",
       "      <td>-2.080028</td>\n",
       "      <td>-0.026012</td>\n",
       "      <td>0.0</td>\n",
       "    </tr>\n",
       "    <tr>\n",
       "      <th>4</th>\n",
       "      <td>1.153688</td>\n",
       "      <td>1.165254</td>\n",
       "      <td>0.196922</td>\n",
       "      <td>-0.663122</td>\n",
       "      <td>-0.892119</td>\n",
       "      <td>-0.205637</td>\n",
       "      <td>-0.322458</td>\n",
       "      <td>0.567275</td>\n",
       "      <td>0.759375</td>\n",
       "      <td>0.482087</td>\n",
       "      <td>...</td>\n",
       "      <td>-0.303173</td>\n",
       "      <td>-0.478619</td>\n",
       "      <td>-0.024926</td>\n",
       "      <td>-0.486592</td>\n",
       "      <td>-0.449718</td>\n",
       "      <td>-0.887021</td>\n",
       "      <td>0.971733</td>\n",
       "      <td>-0.051162</td>\n",
       "      <td>-0.991662</td>\n",
       "      <td>0.0</td>\n",
       "    </tr>\n",
       "  </tbody>\n",
       "</table>\n",
       "<p>5 rows × 22 columns</p>\n",
       "</div>"
      ],
      "text/plain": [
       "     HighBP  HighChol  CholCheck       BMI    Smoker    Stroke  \\\n",
       "0  1.153688  1.165254   0.196922  1.757936  1.120927 -0.205637   \n",
       "1 -0.866785 -0.858182  -5.078164 -0.511806  1.120927 -0.205637   \n",
       "2  1.153688  1.165254   0.196922 -0.057858 -0.892119 -0.205637   \n",
       "3  1.153688 -0.858182   0.196922 -0.209174 -0.892119 -0.205637   \n",
       "4  1.153688  1.165254   0.196922 -0.663122 -0.892119 -0.205637   \n",
       "\n",
       "   HeartDiseaseorAttack  PhysActivity    Fruits   Veggies  ...  NoDocbcCost  \\\n",
       "0             -0.322458     -1.762814 -1.316872  0.482087  ...    -0.303173   \n",
       "1             -0.322458      0.567275 -1.316872 -2.074316  ...     3.298445   \n",
       "2             -0.322458     -1.762814  0.759375 -2.074316  ...     3.298445   \n",
       "3             -0.322458      0.567275  0.759375  0.482087  ...    -0.303173   \n",
       "4             -0.322458      0.567275  0.759375  0.482087  ...    -0.303173   \n",
       "\n",
       "    GenHlth  MentHlth  PhysHlth  DiffWalk       Sex       Age  Education  \\\n",
       "0  2.329121  1.998592  1.233999  2.223615 -0.887021  0.316900  -1.065595   \n",
       "1  0.457294 -0.429630 -0.486592 -0.449718 -0.887021 -0.337933   0.963272   \n",
       "2  2.329121  3.617407  2.954590  2.223615 -0.887021  0.316900  -1.065595   \n",
       "3 -0.478619 -0.429630 -0.486592 -0.449718 -0.887021  0.971733  -2.080028   \n",
       "4 -0.478619 -0.024926 -0.486592 -0.449718 -0.887021  0.971733  -0.051162   \n",
       "\n",
       "     Income  Diabetes_012  \n",
       "0 -1.474487           0.0  \n",
       "1 -2.440138           0.0  \n",
       "2  0.939638           0.0  \n",
       "3 -0.026012           0.0  \n",
       "4 -0.991662           0.0  \n",
       "\n",
       "[5 rows x 22 columns]"
      ]
     },
     "execution_count": 2,
     "metadata": {},
     "output_type": "execute_result"
    }
   ],
   "source": [
    "load_dotenv(find_dotenv())\n",
    "\n",
    "fldr = os.environ['processed_fldr']\n",
    "\n",
    "df = pd.read_csv(os.path.join(fldr, 'preprocessed_data.csv'))\n",
    "df.head()"
   ]
  },
  {
   "cell_type": "markdown",
   "metadata": {},
   "source": [
    "### Splitting dataset"
   ]
  },
  {
   "cell_type": "code",
   "execution_count": 3,
   "metadata": {},
   "outputs": [],
   "source": [
    "from sklearn.model_selection import train_test_split\n",
    "\n",
    "X = df.drop('Diabetes_012', axis=1)\n",
    "y = df['Diabetes_012']\n",
    "\n",
    "# Splitting the dataset\n",
    "X_train, X_test, y_train, y_test = train_test_split(X, \n",
    "                                                    y,\n",
    "                                                    test_size=0.3,\n",
    "                                                    random_state=42)"
   ]
  },
  {
   "cell_type": "markdown",
   "metadata": {},
   "source": [
    "## Feature Importance"
   ]
  },
  {
   "cell_type": "markdown",
   "metadata": {},
   "source": [
    "### Logistic Regression"
   ]
  },
  {
   "cell_type": "code",
   "execution_count": 4,
   "metadata": {},
   "outputs": [
    {
     "name": "stdout",
     "output_type": "stream",
     "text": [
      "Logistic Regression Feature Importance:\n"
     ]
    },
    {
     "data": {
      "text/plain": [
       "Income                  0.080836\n",
       "PhysHlth                0.075221\n",
       "HvyAlcoholConsump       0.075015\n",
       "Education               0.018808\n",
       "Fruits                  0.013400\n",
       "DiffWalk                0.012352\n",
       "MentHlth                0.008368\n",
       "Smoker                  0.005965\n",
       "Veggies                 0.003342\n",
       "AnyHealthcare           0.003258\n",
       "PhysActivity            0.002192\n",
       "Stroke                  0.001957\n",
       "HeartDiseaseorAttack   -0.006063\n",
       "Sex                    -0.054018\n",
       "NoDocbcCost            -0.058693\n",
       "CholCheck              -0.128210\n",
       "HighBP                 -0.181433\n",
       "HighChol               -0.205103\n",
       "BMI                    -0.351251\n",
       "Age                    -0.371760\n",
       "GenHlth                -0.411434\n",
       "dtype: float64"
      ]
     },
     "execution_count": 4,
     "metadata": {},
     "output_type": "execute_result"
    }
   ],
   "source": [
    "from sklearn.linear_model import LogisticRegression\n",
    "\n",
    "logReg = LogisticRegression(max_iter=10000)\n",
    "logReg.fit(X_train, y_train)\n",
    "logReg_coeff = pd.Series(logReg.coef_[0], index=X.columns).sort_values(ascending=False)\n",
    "print(\"Logistic Regression Feature Importance:\")\n",
    "logReg_coeff"
   ]
  },
  {
   "cell_type": "code",
   "execution_count": 5,
   "metadata": {},
   "outputs": [
    {
     "data": {
      "image/png": "[encoded data removed]",
      "text/plain": [
       "<Figure size 1200x600 with 1 Axes>"
      ]
     },
     "metadata": {},
     "output_type": "display_data"
    }
   ],
   "source": [
    "# Plotting\n",
    "import matplotlib.pyplot as plt\n",
    "\n",
    "plt.figure(figsize=(12, 6))\n",
    "logReg_coeff.plot(kind='bar')\n",
    "plt.title(\"LogisticRegression coeff.\")\n",
    "plt.show()"
   ]
  },
  {
   "cell_type": "markdown",
   "metadata": {},
   "source": [
    "According to Logistic Regression, \"Income\", \"PhysHlth\" and \"HvyAlcoholConsump\" are the 3 most important features."
   ]
  },
  {
   "cell_type": "markdown",
   "metadata": {},
   "source": [
    "## Random Forest"
   ]
  },
  {
   "cell_type": "code",
   "execution_count": null,
   "metadata": {},
   "outputs": [],
   "source": [
    "from sklearn.ensemble import RandomForestClassifier\n",
    "from sklearn.metrics import classification_report\n",
    "\n",
    "rf = RandomForestClassifier(n_estimators=100, random_state=42)\n",
    "rf.fit(X_train, y_train)\n",
    "y_pred = rf.predict(X_test)\n",
    "classification_report(y_test, y_pred)"
   ]
  },
  {
   "cell_type": "code",
   "execution_count": null,
   "metadata": {},
   "outputs": [
    {
     "data": {
      "text/plain": [
       "BMI                     0.145601\n",
       "Age                     0.140608\n",
       "GenHlth                 0.128257\n",
       "Income                  0.109919\n",
       "Education               0.074324\n",
       "PhysHlth                0.069818\n",
       "MentHlth                0.054966\n",
       "HighBP                  0.044126\n",
       "HighChol                0.035557\n",
       "Smoker                  0.028852\n",
       "Fruits                  0.028465\n",
       "Sex                     0.027913\n",
       "PhysActivity            0.023634\n",
       "Veggies                 0.021404\n",
       "DiffWalk                0.017519\n",
       "HeartDiseaseorAttack    0.013138\n",
       "NoDocbcCost             0.011084\n",
       "Stroke                  0.008965\n",
       "HvyAlcoholConsump       0.006579\n",
       "AnyHealthcare           0.006167\n",
       "CholCheck               0.003105\n",
       "dtype: float64"
      ]
     },
     "execution_count": 14,
     "metadata": {},
     "output_type": "execute_result"
    }
   ],
   "source": [
    "rf_feats = pd.Series(rf.feature_importances_, index=X.columns).sort_values(ascending=False)\n",
    "rf_feats"
   ]
  },
  {
   "cell_type": "markdown",
   "metadata": {},
   "source": [
    "### SHAP (SHapley Additive exPlanations)\n",
    "\n",
    "Uses SHAP values to interpret the impact of each feature on the predictions of complex models"
   ]
  },
  {
   "cell_type": "code",
   "execution_count": null,
   "metadata": {},
   "outputs": [],
   "source": [
    "import shap\n",
    "\n",
    "explainer = shap.TreeExplainer(rf)\n",
    "shap_vals = explainer.shap_values(X_test)\n",
    "shap.summary_plot(shap_vals, X_test, feature_names=X.columns)"
   ]
  },
  {
   "cell_type": "code",
   "execution_count": null,
   "metadata": {},
   "outputs": [],
   "source": [
    "shap.summary_plot(shap_vals, X_test, feature_names=X.columns, plot_type=\"bar\")"
   ]
  },
  {
   "cell_type": "markdown",
   "metadata": {},
   "source": [
    "Based on the response from different models, we can deduce the following conclusion: \n",
    "\n",
    "Highly prioritized features: \n",
    "- GenHlth\n",
    "- Age\n",
    "- BMI\n",
    "- Income\n",
    "\n",
    "Secondary priority features: \n",
    "- HighChol\n",
    "- HighBP\n",
    "- Education\n",
    "- PhysHlth"
   ]
  }
 ],
 "metadata": {
  "kernelspec": {
   "display_name": "evydVenv",
   "language": "python",
   "name": "python3"
  },
  "language_info": {
   "codemirror_mode": {
    "name": "ipython",
    "version": 3
   },
   "file_extension": ".py",
   "mimetype": "text/x-python",
   "name": "python",
   "nbconvert_exporter": "python",
   "pygments_lexer": "ipython3",
   "version": "3.12.3"
  }
 },
 "nbformat": 4,
 "nbformat_minor": 2
}
